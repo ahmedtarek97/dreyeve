{
 "cells": [
  {
   "cell_type": "code",
   "execution_count": 3,
   "metadata": {},
   "outputs": [],
   "source": [
    "import sys \n",
    "sys.path.append('/Users/mak/Desktop/dreyeve-master/experiments')"
   ]
  },
  {
   "cell_type": "code",
   "execution_count": 25,
   "metadata": {},
   "outputs": [],
   "source": [
    "import os \n",
    "os.environ['KERAS_BACKEND'] =\"theano\"\n",
    "import keras\n"
   ]
  },
  {
   "cell_type": "code",
   "execution_count": 31,
   "metadata": {},
   "outputs": [],
   "source": [
    "import numpy as np\n",
    "import cv2\n",
    "\n",
    "import argparse\n",
    "\n",
    "import os\n",
    "from tqdm import tqdm\n",
    "from os.path import join\n",
    "\n",
    "from train.models import DreyeveNet\n",
    "from computer_vision_utils.io_helper import read_image, normalize\n",
    "from computer_vision_utils.tensor_manipulation import resize_tensor\n",
    "from computer_vision_utils.stitching import stitch_together\n",
    "\n",
    "from train.utils import seg_to_colormap\n",
    "from metrics.metrics import kld_numeric, cc_numeric"
   ]
  },
  {
   "cell_type": "code",
   "execution_count": 30,
   "metadata": {},
   "outputs": [],
   "source": [
    "\n",
    "def load_dreyeve_sample(sequence_dir, sample, mean_dreyeve_image, frames_per_seq=16, h=448, w=448, ):\n",
    "    \"\"\"\n",
    "    Function to load a dreyeve_sample.\n",
    "\n",
    "    :param sequence_dir: string, sequence directory (e.g. 'Z:/DATA/04/').\n",
    "    :param sample: int, sample to load in (15, 7499). N.B. this is the sample where prediction occurs!\n",
    "    :param mean_dreyeve_image: mean dreyeve image, subtracted to each frame.\n",
    "    :param frames_per_seq: number of temporal frames for each sample\n",
    "    :param h: h\n",
    "    :param w: w\n",
    "    :return: a dreyeve_sample like I, OF, SEG\n",
    "    \"\"\"\n",
    "\n",
    "    h_c = h_s = h // 4\n",
    "    w_c = w_s = h // 4\n",
    "\n",
    "    I_ff = np.zeros(shape=(1, 3, 1, h, w), dtype='float32')\n",
    "    I_s = np.zeros(shape=(1, 3, frames_per_seq, h_s, w_s), dtype='float32')\n",
    "    I_c = np.zeros(shape=(1, 3, frames_per_seq, h_c, w_c), dtype='float32')\n",
    "    OF_ff = np.zeros(shape=(1, 3, 1, h, w), dtype='float32')\n",
    "    OF_s = np.zeros(shape=(1, 3, frames_per_seq, h_s, w_s), dtype='float32')\n",
    "    OF_c = np.zeros(shape=(1, 3, frames_per_seq, h_c, w_c), dtype='float32')\n",
    "    SEG_ff = np.zeros(shape=(1, 19, 1, h, w), dtype='float32')\n",
    "    SEG_s = np.zeros(shape=(1, 19, frames_per_seq, h_s, w_s), dtype='float32')\n",
    "    SEG_c = np.zeros(shape=(1, 19, frames_per_seq, h_c, w_c), dtype='float32')\n",
    "\n",
    "    Y_sal = np.zeros(shape=(1, 1, h, w), dtype='float32')\n",
    "    Y_fix = np.zeros(shape=(1, 1, h, w), dtype='float32')\n",
    "\n",
    "    for fr in xrange(0, frames_per_seq):\n",
    "        offset = sample - frames_per_seq + 1 + fr   # tricky\n",
    "\n",
    "        # read image\n",
    "        x = read_image(join(sequence_dir, 'frames', '{:06d}.jpg'.format(offset)),\n",
    "                       channels_first=True, resize_dim=(h, w)) - mean_dreyeve_image\n",
    "        I_s[0, :, fr, :, :] = resize_tensor(x, new_size=(h_s, w_s))\n",
    "\n",
    "        # read of\n",
    "        of = read_image(join(sequence_dir, 'optical_flow', '{:06d}.png'.format(offset + 1)),\n",
    "                        channels_first=True, resize_dim=(h, w))\n",
    "        of -= np.mean(of, axis=(1, 2), keepdims=True)  # remove mean\n",
    "        OF_s[0, :, fr, :, :] = resize_tensor(of, new_size=(h_s, w_s))\n",
    "\n",
    "        # read semseg\n",
    "        seg = resize_tensor(np.load(join(sequence_dir, 'semseg', '{:06d}.npz'.format(offset)))['arr_0'][0],\n",
    "                            new_size=(h, w))\n",
    "        SEG_s[0, :, fr, :, :] = resize_tensor(seg, new_size=(h_s, w_s))\n",
    "\n",
    "    I_ff[0, :, 0, :, :] = x\n",
    "    OF_ff[0, :, 0, :, :] = of\n",
    "    SEG_ff[0, :, 0, :, :] = seg\n",
    "\n",
    "    Y_sal[0, 0] = read_image(join(sequence_dir, 'saliency', '{:06d}.png'.format(sample)), channels_first=False,\n",
    "                             color=False, resize_dim=(h, w))\n",
    "    Y_fix[0, 0] = read_image(join(sequence_dir, 'saliency_fix', '{:06d}.png'.format(sample)), channels_first=False,\n",
    "                             color=False, resize_dim=(h, w))\n",
    "\n",
    "    return [I_ff, I_s, I_c, OF_ff, OF_s, OF_c, SEG_ff, SEG_s, SEG_c], [Y_sal, Y_fix]"
   ]
  },
  {
   "cell_type": "code",
   "execution_count": 4,
   "metadata": {},
   "outputs": [],
   "source": [
    "import keras.backend as K\n",
    "\n",
    "from keras.models import Model\n",
    "from keras.layers import Input, Reshape, merge, Lambda, Activation, LeakyReLU\n",
    "from keras.layers import Convolution3D, MaxPooling3D, Convolution2D\n",
    "from keras.utils.data_utils import get_file\n",
    "\n",
    "from train.config import simo_mode\n",
    "\n",
    "from train.custom_layers import BilinearUpsampling\n",
    "\n",
    "\n",
    "C3D_WEIGHTS_URL = 'http://imagelab.ing.unimore.it/files/c3d_weights/w_up2_conv4_new.h5'\n",
    "\n"
   ]
  },
  {
   "cell_type": "code",
   "execution_count": null,
   "metadata": {},
   "outputs": [],
   "source": []
  }
 ],
 "metadata": {
  "kernelspec": {
   "display_name": "Python 3",
   "language": "python",
   "name": "python3"
  },
  "language_info": {
   "codemirror_mode": {
    "name": "ipython",
    "version": 3
   },
   "file_extension": ".py",
   "mimetype": "text/x-python",
   "name": "python",
   "nbconvert_exporter": "python",
   "pygments_lexer": "ipython3",
   "version": "3.7.3"
  }
 },
 "nbformat": 4,
 "nbformat_minor": 4
}
