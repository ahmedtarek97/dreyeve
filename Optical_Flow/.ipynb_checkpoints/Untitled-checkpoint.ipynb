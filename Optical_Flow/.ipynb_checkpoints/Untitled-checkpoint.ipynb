{
 "cells": [
  {
   "cell_type": "code",
   "execution_count": 14,
   "metadata": {},
   "outputs": [],
   "source": [
    "\n",
    "from __future__ import absolute_import\n",
    "from __future__ import division\n",
    "from __future__ import print_function\n",
    "# from __future__ import unicode_literals\n",
    "import numpy as np\n",
    "from PIL import Image\n",
    "import argparse\n",
    "import pyflow\n",
    "import os\n",
    "import cv2\n",
    "from os.path import join\n",
    "\n",
    "parser = argparse.ArgumentParser(\n",
    "        description='Demo for python wrapper of Coarse2Fine Optical Flow')\n",
    "parser.add_argument(\n",
    "        '-viz', dest='viz', action='store_true',\n",
    "        help='Visualize (i.e. save) output of flow.')\n",
    "args = parser.parse_args()\n",
    "\n"
   ]
  },
  {
   "cell_type": "code",
   "execution_count": 15,
   "metadata": {},
   "outputs": [],
   "source": [
    "def optical_flow(framepath):\n",
    "    dataset_root = framepath\n",
    "    output_root = join(framepath,'opticalflow')\n",
    "    if not os.path.exists(output_root):\n",
    "        os.mkdir(output_root)\n",
    "    dir_frames= join(dataset_root,'Frames')\n",
    "    for j in range(0,749):\n",
    "        im1 = np.array(Image.open(join(dir_frames,'{:d}'.format(j)+'.jpg')))\n",
    "        im2 = np.array(Image.open(join(dir_frames,'{:d}'.format(j+1)+'.jpg')))\n",
    "        im1 = cv2.resize(im1,(120,68))\n",
    "        im2 = cv2.resize(im2,(120,68))\n",
    "        im1 = im1.astype(float) / 255.\n",
    "        im2 = im2.astype(float) / 255.\n",
    "    \n",
    "        # Flow Options:\n",
    "        alpha = 0.012\n",
    "        ratio = 0.75\n",
    "        minWidth = 20\n",
    "        nOuterFPIterations = 7\n",
    "        nInnerFPIterations = 1\n",
    "        nSORIterations = 30\n",
    "        colType = 0  # 0 or default:RGB, 1:GRAY (but pass gray image with shape (h,w,1))\n",
    "    \n",
    "            \n",
    "        u, v, im2W = pyflow.coarse2fine_flow(\n",
    "        im1, im2, alpha, ratio, minWidth, nOuterFPIterations, nInnerFPIterations,\n",
    "        nSORIterations, colType)\n",
    "            \n",
    "            \n",
    "        flow = np.concatenate((u[..., None], v[..., None]), axis=2)\n",
    "    \n",
    "        hsv = np.zeros(im1.shape, dtype=np.uint8)\n",
    "        hsv[:, :, 0] = 255\n",
    "        hsv[:, :, 1] = 255\n",
    "        mag, ang = cv2.cartToPolar(flow[..., 0], flow[..., 1])\n",
    "        hsv[..., 0] = ang * 180 / np.pi / 2\n",
    "        hsv[..., 2] = cv2.normalize(mag, None, 0, 255, cv2.NORM_MINMAX)\n",
    "        rgb = cv2.cvtColor(hsv, cv2.COLOR_HSV2BGR)\n",
    "        cv2.imwrite(join(output_root,'{}'.format(j)+'.png'), rgb) "
   ]
  },
  {
   "cell_type": "code",
   "execution_count": 16,
   "metadata": {},
   "outputs": [
    {
     "ename": "NameError",
     "evalue": "name 'pyflow' is not defined",
     "output_type": "error",
     "traceback": [
      "\u001b[0;31m---------------------------------------------------------------------------\u001b[0m",
      "\u001b[0;31mNameError\u001b[0m                                 Traceback (most recent call last)",
      "\u001b[0;32m<ipython-input-16-679d15601c31>\u001b[0m in \u001b[0;36m<module>\u001b[0;34m\u001b[0m\n\u001b[0;32m----> 1\u001b[0;31m \u001b[0moptical_flow\u001b[0m\u001b[0;34m(\u001b[0m\u001b[0;34m'/home/ahmedtrk97/GP-2020/Test/44/'\u001b[0m\u001b[0;34m)\u001b[0m\u001b[0;34m\u001b[0m\u001b[0;34m\u001b[0m\u001b[0m\n\u001b[0m",
      "\u001b[0;32m<ipython-input-15-b913ce012b9d>\u001b[0m in \u001b[0;36moptical_flow\u001b[0;34m(framepath)\u001b[0m\n\u001b[1;32m     23\u001b[0m \u001b[0;34m\u001b[0m\u001b[0m\n\u001b[1;32m     24\u001b[0m \u001b[0;34m\u001b[0m\u001b[0m\n\u001b[0;32m---> 25\u001b[0;31m         u, v, im2W = pyflow.coarse2fine_flow(\n\u001b[0m\u001b[1;32m     26\u001b[0m         \u001b[0mim1\u001b[0m\u001b[0;34m,\u001b[0m \u001b[0mim2\u001b[0m\u001b[0;34m,\u001b[0m \u001b[0malpha\u001b[0m\u001b[0;34m,\u001b[0m \u001b[0mratio\u001b[0m\u001b[0;34m,\u001b[0m \u001b[0mminWidth\u001b[0m\u001b[0;34m,\u001b[0m \u001b[0mnOuterFPIterations\u001b[0m\u001b[0;34m,\u001b[0m \u001b[0mnInnerFPIterations\u001b[0m\u001b[0;34m,\u001b[0m\u001b[0;34m\u001b[0m\u001b[0;34m\u001b[0m\u001b[0m\n\u001b[1;32m     27\u001b[0m         nSORIterations, colType)\n",
      "\u001b[0;31mNameError\u001b[0m: name 'pyflow' is not defined"
     ]
    }
   ],
   "source": [
    "optical_flow('/home/ahmedtrk97/GP-2020/Test/44/')"
   ]
  },
  {
   "cell_type": "code",
   "execution_count": null,
   "metadata": {},
   "outputs": [],
   "source": []
  }
 ],
 "metadata": {
  "kernelspec": {
   "display_name": "Python 3",
   "language": "python",
   "name": "python3"
  },
  "language_info": {
   "codemirror_mode": {
    "name": "ipython",
    "version": 3
   },
   "file_extension": ".py",
   "mimetype": "text/x-python",
   "name": "python",
   "nbconvert_exporter": "python",
   "pygments_lexer": "ipython3",
   "version": "3.7.6"
  }
 },
 "nbformat": 4,
 "nbformat_minor": 4
}
