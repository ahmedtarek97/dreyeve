{
 "cells": [
  {
   "cell_type": "code",
   "execution_count": 0,
   "metadata": {
    "colab": {},
    "colab_type": "code",
    "id": "5-VnK2NnE7-2"
   },
   "outputs": [],
   "source": [
    "from google.colab import drive\n",
    "drive.mount('/content/drive')"
   ]
  },
  {
   "cell_type": "code",
   "execution_count": 0,
   "metadata": {
    "colab": {
     "base_uri": "https://localhost:8080/",
     "height": 179
    },
    "colab_type": "code",
    "id": "Z22tekqrZk7x",
    "outputId": "83be4bcc-8fd5-4352-d73b-4c287d39af7b"
   },
   "outputs": [
    {
     "name": "stdout",
     "output_type": "stream",
     "text": [
      "TensorFlow 1.x selected.\n"
     ]
    },
    {
     "name": "stderr",
     "output_type": "stream",
     "text": [
      "Using TensorFlow backend.\n"
     ]
    },
    {
     "name": "stdout",
     "output_type": "stream",
     "text": [
      "WARNING:tensorflow:From /tensorflow-1.15.2/python3.6/tensorflow_core/python/ops/resource_variable_ops.py:1630: calling BaseResourceVariable.__init__ (from tensorflow.python.ops.resource_variable_ops) with constraint is deprecated and will be removed in a future version.\n",
      "Instructions for updating:\n",
      "If using Keras pass *_constraint arguments to layers.\n",
      "1.15.2\n"
     ]
    },
    {
     "name": "stderr",
     "output_type": "stream",
     "text": [
      "/usr/local/lib/python3.6/dist-packages/statsmodels/tools/_testing.py:19: FutureWarning: pandas.util.testing is deprecated. Use the functions in the public API at pandas.testing instead.\n",
      "  import pandas.util.testing as tm\n"
     ]
    }
   ],
   "source": [
    "%tensorflow_version 1.x\n",
    "import sys \n",
    "sys.path.append(\"/content/drive/My Drive/experiments\")\n",
    "import uuid\n",
    "from train.config import batchsize,frames_per_seq, h, w, opt,train_samples_per_epoch,val_samples_per_epoch,nb_epochs,dreyeve_train_seq,train_frame_range,dreyeve_dir\n",
    "from train.config import full_frame_loss, crop_loss, w_loss_fine, w_loss_cropped,simo_mode\n",
    "from train.batch_generators import generate_dreyeve_I_batch, generate_dreyeve_OF_batch, generate_dreyeve_SEG_batch,dreyeve_I_batch,sample_signature\n",
    "from train.batch_generators import generate_dreyeve_batch,load_saliency_data\n",
    "from train.models import DreyeveNet,SaliencyBranch\n",
    "from train.loss_functions import saliency_loss\n",
    "from train.callbacks import get_callbacks\n",
    "from computer_vision_utils.io_helper import read_image, normalize\n",
    "from tqdm import  tqdm\n",
    "import numpy as np\n",
    "from os.path import join\n",
    "import cv2\n",
    "from computer_vision_utils.tensor_manipulation import resize_tensor\n"
   ]
  },
  {
   "cell_type": "code",
   "execution_count": 0,
   "metadata": {
    "colab": {},
    "colab_type": "code",
    "id": "uNO4dFV2d8NR"
   },
   "outputs": [],
   "source": [
    "def fine_tuning():\n",
    "    \"\"\"\n",
    "    Function to launch training on DreyeveNet. It is called `fine_tuning` since supposes\n",
    "    the three branches to be pretrained. Should also work from scratch.\n",
    "    \"\"\"\n",
    "\n",
    "    experiment_id = 'DREYEVE_{}'.format(uuid.uuid4())\n",
    "\n",
    "    model = DreyeveNet(frames_per_seq=frames_per_seq, h=h, w=w)\n",
    "    model.compile(optimizer=opt,\n",
    "                  loss={'prediction_fine': saliency_loss(name=full_frame_loss),\n",
    "                        'prediction_crop': saliency_loss(name=crop_loss)},\n",
    "                  loss_weights={'prediction_fine': w_loss_fine,\n",
    "                                'prediction_crop': w_loss_cropped})\n",
    "    model.summary()\n",
    "\n",
    "    model.fit_generator(generator=generate_dreyeve_batch(batchsize=batchsize, nb_frames=frames_per_seq,\n",
    "                                                         image_size=(h, w), mode='train'),\n",
    "                        validation_data=generate_dreyeve_batch(batchsize=batchsize, nb_frames=frames_per_seq,\n",
    "                                                               image_size=(h, w), mode='val'),\n",
    "                        nb_val_samples=val_samples_per_epoch,\n",
    "                        samples_per_epoch=train_samples_per_epoch,\n",
    "                        nb_epoch=nb_epochs,\n",
    "                        callbacks=get_callbacks(experiment_id=experiment_id))\n",
    "\n"
   ]
  },
  {
   "cell_type": "code",
   "execution_count": 0,
   "metadata": {
    "colab": {},
    "colab_type": "code",
    "id": "W_P00R1Y3AiR"
   },
   "outputs": [],
   "source": [
    "def train_image_branch():\n",
    "    \n",
    "    \"\"\"\n",
    "    Function to train a SaliencyBranch model on images.\n",
    "    \"\"\"\n",
    "\n",
    "    experiment_id = 'COLOR_{}'.format(uuid.uuid4())\n",
    "\n",
    "    model = SaliencyBranch(input_shape=(frames_per_seq, h, w,3), c3d_pretrained=True, branch='image')\n",
    "    \n",
    "    model.compile(optimizer=opt,\n",
    "                  loss={'prediction_fine': saliency_loss(name=full_frame_loss),\n",
    "                        'prediction_crop': saliency_loss(name=crop_loss)},\n",
    "                  loss_weights={'prediction_fine': w_loss_fine,\n",
    "                                'prediction_crop': w_loss_cropped})\n",
    "    model.load_weights(\"/content/drive/My Drive/dreyeve project (my file)/Train/checkpoints/9/w9.h5\")\n",
    "    model.summary()\n",
    "    \n",
    "    model.fit_generator(generator=generate_dreyeve_I_batch(batchsize=batchsize, nb_frames=frames_per_seq,\n",
    "                                                           image_size=(h, w), mode='train'),\n",
    "                        validation_data=generate_dreyeve_I_batch(batchsize=batchsize, nb_frames=frames_per_seq,\n",
    "                                                                 image_size=(h, w), mode='val'),\n",
    "                        nb_val_samples=val_samples_per_epoch,\n",
    "                        samples_per_epoch=train_samples_per_epoch,\n",
    "                        nb_epoch=nb_epochs,\n",
    "                        callbacks=get_callbacks(experiment_id=experiment_id)\n",
    "                        )\n",
    "    \n",
    "    \n",
    "\n",
    "def train_flow_branch():\n",
    "    \"\"\"\n",
    "    Function to train a SaliencyBranch model on optical flow.\n",
    "    \"\"\"\n",
    "    experiment_id = 'FLOW_{}'.format(uuid.uuid4())\n",
    "\n",
    "    model = SaliencyBranch(input_shape=(3, frames_per_seq, h, w), c3d_pretrained=True, branch='flow')\n",
    "    model.compile(optimizer=opt,\n",
    "                  loss={'prediction_fine': saliency_loss(name=full_frame_loss),\n",
    "                        'prediction_crop': saliency_loss(name=crop_loss)},\n",
    "                  loss_weights={'prediction_fine': w_loss_fine,\n",
    "                                'prediction_crop': w_loss_cropped})\n",
    "    model.summary()\n",
    "\n",
    "    model.fit_generator(generator=generate_dreyeve_OF_batch(batchsize=batchsize, nb_frames=frames_per_seq,\n",
    "                                                            image_size=(h, w), mode='train'),\n",
    "                        validation_data=generate_dreyeve_OF_batch(batchsize=batchsize, nb_frames=frames_per_seq,\n",
    "                                                                  image_size=(h, w), mode='val'),\n",
    "                        nb_val_samples=val_samples_per_epoch,\n",
    "                        samples_per_epoch=train_samples_per_epoch,\n",
    "                        nb_epoch=nb_epochs,\n",
    "                        callbacks=get_callbacks(experiment_id=experiment_id))\n",
    "\n",
    "\n",
    "def train_seg_branch():\n",
    "    \"\"\"\n",
    "    Function to train a SaliencyBranch model on semantic segmentation.\n",
    "    \"\"\"\n",
    "\n",
    "    experiment_id = 'SEGM_{}'.format(uuid.uuid4())\n",
    "\n",
    "    model = SaliencyBranch(input_shape=(19, frames_per_seq, h, w), c3d_pretrained=False, branch='semseg')\n",
    "    \n",
    "    model.compile(optimizer=opt,\n",
    "                  loss={'prediction_fine': saliency_loss(name=full_frame_loss),\n",
    "                        'prediction_crop': saliency_loss(name=crop_loss)},\n",
    "                  loss_weights={'prediction_fine': w_loss_fine,\n",
    "                                'prediction_crop': w_loss_cropped})\n",
    "    model.summary()\n",
    "\n",
    "    model.fit_generator(generator=generate_dreyeve_SEG_batch(batchsize=batchsize, nb_frames=frames_per_seq,\n",
    "                                                             image_size=(h, w), mode='train'),\n",
    "                        validation_data=generate_dreyeve_SEG_batch(batchsize=batchsize, nb_frames=frames_per_seq,\n",
    "                                                                   image_size=(h, w), mode='val'),\n",
    "                        nb_val_samples=val_samples_per_epoch,\n",
    "                        samples_per_epoch=train_samples_per_epoch,\n",
    "                        nb_epoch=nb_epochs,\n",
    "                        callbacks=get_callbacks(experiment_id=experiment_id))\n"
   ]
  },
  {
   "cell_type": "code",
   "execution_count": 0,
   "metadata": {
    "colab": {
     "base_uri": "https://localhost:8080/",
     "height": 1000
    },
    "colab_type": "code",
    "id": "1jKZ2aju3NW_",
    "outputId": "f1f4d83c-9162-45ee-8d39-dbe86708383b"
   },
   "outputs": [
    {
     "name": "stdout",
     "output_type": "stream",
     "text": [
      "Model: \"image_saliency_branch\"\n",
      "__________________________________________________________________________________________________\n",
      "Layer (type)                    Output Shape         Param #     Connected to                     \n",
      "==================================================================================================\n",
      "image_input_small (InputLayer)  (None, 16, 112, 112, 0                                            \n",
      "__________________________________________________________________________________________________\n",
      "image_coarse_model (Model)      (None, 112, 112, 512 13499136    image_input_small[0][0]          \n",
      "                                                                 image_input_crop[0][0]           \n",
      "__________________________________________________________________________________________________\n",
      "conv2d_1 (Conv2D)               (None, 112, 112, 1)  4609        image_coarse_model[1][0]         \n",
      "__________________________________________________________________________________________________\n",
      "image_21x_upsampling (UpSamplin (None, 224, 224, 1)  0           conv2d_1[0][0]                   \n",
      "__________________________________________________________________________________________________\n",
      "image_input_ff (InputLayer)     (None, 1, 448, 448,  0                                            \n",
      "__________________________________________________________________________________________________\n",
      "image_22x_upsampling (UpSamplin (None, 448, 448, 1)  0           image_21x_upsampling[0][0]       \n",
      "__________________________________________________________________________________________________\n",
      "reshape_2 (Reshape)             (None, 448, 448, 3)  0           image_input_ff[0][0]             \n",
      "__________________________________________________________________________________________________\n",
      "image_full_frame_concat (Concat (None, 448, 448, 4)  0           image_22x_upsampling[0][0]       \n",
      "                                                                 reshape_2[0][0]                  \n",
      "__________________________________________________________________________________________________\n",
      "image_refine_conv1 (Conv2D)     (None, 448, 448, 32) 1184        image_full_frame_concat[0][0]    \n",
      "__________________________________________________________________________________________________\n",
      "leaky_re_lu_1 (LeakyReLU)       (None, 448, 448, 32) 0           image_refine_conv1[0][0]         \n",
      "__________________________________________________________________________________________________\n",
      "image_refine_conv2 (Conv2D)     (None, 448, 448, 16) 4624        leaky_re_lu_1[0][0]              \n",
      "__________________________________________________________________________________________________\n",
      "leaky_re_lu_2 (LeakyReLU)       (None, 448, 448, 16) 0           image_refine_conv2[0][0]         \n",
      "__________________________________________________________________________________________________\n",
      "image_refine_conv3 (Conv2D)     (None, 448, 448, 8)  1160        leaky_re_lu_2[0][0]              \n",
      "__________________________________________________________________________________________________\n",
      "leaky_re_lu_3 (LeakyReLU)       (None, 448, 448, 8)  0           image_refine_conv3[0][0]         \n",
      "__________________________________________________________________________________________________\n",
      "image_input_crop (InputLayer)   (None, 16, 112, 112, 0                                            \n",
      "__________________________________________________________________________________________________\n",
      "image_refine_conv4 (Conv2D)     (None, 448, 448, 1)  73          leaky_re_lu_3[0][0]              \n",
      "__________________________________________________________________________________________________\n",
      "activation_1 (Activation)       (None, 448, 448, 1)  0           image_refine_conv4[0][0]         \n",
      "__________________________________________________________________________________________________\n",
      "image_crop_final_conv (Conv2D)  (None, 112, 112, 1)  4609        image_coarse_model[2][0]         \n",
      "__________________________________________________________________________________________________\n",
      "prediction_fine (Activation)    (None, 448, 448, 1)  0           activation_1[0][0]               \n",
      "__________________________________________________________________________________________________\n",
      "prediction_crop (Activation)    (None, 112, 112, 1)  0           image_crop_final_conv[0][0]      \n",
      "==================================================================================================\n",
      "Total params: 13,515,395\n",
      "Trainable params: 13,515,395\n",
      "Non-trainable params: 0\n",
      "__________________________________________________________________________________________________\n"
     ]
    },
    {
     "name": "stderr",
     "output_type": "stream",
     "text": [
      "/usr/local/lib/python3.6/dist-packages/ipykernel_launcher.py:26: UserWarning: The semantics of the Keras 2 argument `steps_per_epoch` is not the same as the Keras 1 argument `samples_per_epoch`. `steps_per_epoch` is the number of batches to draw from the generator at each epoch. Basically steps_per_epoch = samples_per_epoch/batch_size. Similarly `nb_val_samples`->`validation_steps` and `val_samples`->`steps` arguments have changed. Update your method calls accordingly.\n",
      "/usr/local/lib/python3.6/dist-packages/ipykernel_launcher.py:26: UserWarning: Update your `fit_generator` call to the Keras 2 API: `fit_generator(generator=<generator..., validation_data=<generator..., callbacks=[<train.ca..., steps_per_epoch=5000, epochs=1, validation_steps=320)`\n"
     ]
    },
    {
     "name": "stdout",
     "output_type": "stream",
     "text": [
      "WARNING:tensorflow:From /usr/local/lib/python3.6/dist-packages/keras/backend/tensorflow_backend.py:422: The name tf.global_variables is deprecated. Please use tf.compat.v1.global_variables instead.\n",
      "\n",
      "Epoch 1/1\n"
     ]
    },
    {
     "name": "stderr",
     "output_type": "stream",
     "text": [
      "/content/drive/My Drive/experiments/computer_vision_utils/io_helper.py:104: RuntimeWarning: invalid value encountered in true_divide\n",
      "  img /= img.max()\n",
      "/usr/local/lib/python3.6/dist-packages/keras/utils/data_utils.py:718: UserWarning: An input could not be retrieved. It could be because a worker has died.We do not have any information on the lost sample.\n",
      "  UserWarning)\n"
     ]
    },
    {
     "name": "stdout",
     "output_type": "stream",
     "text": [
      "4999/5000 [============================>.] - ETA: 6s - loss: 0.4881 - prediction_fine_loss: 0.1985 - prediction_crop_loss: 0.2896 "
     ]
    }
   ],
   "source": [
    "if __name__ == '__main__':\n",
    "\n",
    "    branch=\"image\"  \n",
    "    assert branch in ['finetuning', 'image', 'flow', 'seg']\n",
    "\n",
    "    if branch == 'image':\n",
    "        train_image_branch()\n",
    "    elif branch == 'flow':\n",
    "        train_flow_branch()\n",
    "    elif branch == 'seg':\n",
    "        train_seg_branch()\n",
    "    else:\n",
    "        fine_tuning()"
   ]
  },
  {
   "cell_type": "code",
   "execution_count": 0,
   "metadata": {
    "colab": {
     "base_uri": "https://localhost:8080/",
     "height": 34
    },
    "colab_type": "code",
    "id": "2GMc3t1p4l5Z",
    "outputId": "6fac7754-91f9-4113-ccb8-1885e8a7c38a"
   },
   "outputs": [
    {
     "name": "stdout",
     "output_type": "stream",
     "text": [
      "finish\n"
     ]
    }
   ],
   "source": [
    "X,Y=dreyeve_I_batch(batchsize=batchsize,nb_frames=frames_per_seq,image_size=(h, w),mode='train',gt_type='sal')\n",
    "print(\"finish\")"
   ]
  },
  {
   "cell_type": "code",
   "execution_count": 0,
   "metadata": {
    "colab": {
     "base_uri": "https://localhost:8080/",
     "height": 34
    },
    "colab_type": "code",
    "id": "8UZFdYF_I0sz",
    "outputId": "45d5e1bb-7e72-4ab3-aaa4-403165bff073"
   },
   "outputs": [
    {
     "data": {
      "text/plain": [
       "False"
      ]
     },
     "execution_count": 5,
     "metadata": {
      "tags": []
     },
     "output_type": "execute_result"
    }
   ],
   "source": [
    "import os.path\n",
    "from os import path\n",
    "path.exists(\"/content/drive/My Drive/data_set/d/01/output/saliency/3350.png\")"
   ]
  },
  {
   "cell_type": "code",
   "execution_count": 0,
   "metadata": {
    "colab": {},
    "colab_type": "code",
    "id": "5CKSbOerzXEi"
   },
   "outputs": [],
   "source": [
    "model = SaliencyBranch(input_shape=(frames_per_seq, h, w,3), c3d_pretrained=True, branch='image')\n",
    "model.load_weights('/content/drive/My Drive/dreyeve project/experiments/train/checkpoints/COLOR_2544b93a-03ed-49eb-8153-704a25c144f2/w_epoch_000019.h5')  # load weights\n"
   ]
  },
  {
   "cell_type": "code",
   "execution_count": 0,
   "metadata": {
    "colab": {},
    "colab_type": "code",
    "id": "8u0SVQlzSapu"
   },
   "outputs": [],
   "source": [
    "def load_dreyeve_sample(sequence_dir, sample, mean_dreyeve_image, frames_per_seq=16, h=448, w=448, ):\n",
    "    \"\"\"\n",
    "    Function to load a dreyeve_sample.\n",
    "\n",
    "    :param sequence_dir: string, sequence directory (e.g. 'Z:/DATA/04/').\n",
    "    :param sample: int, sample to load in (15, 7499). N.B. this is the sample where prediction occurs!\n",
    "    :param mean_dreyeve_image: mean dreyeve image, subtracted to each frame.\n",
    "    :param frames_per_seq: number of temporal frames for each sample\n",
    "    :param h: h\n",
    "    :param w: w\n",
    "    :return: a dreyeve_sample like I, OF, SEG\n",
    "    \"\"\"\n",
    "\n",
    "    h_c = h_s = h // 4\n",
    "    w_c = w_s = h // 4\n",
    "\n",
    "    I_ff = np.zeros(shape=(1, 1, h, w,3), dtype='float32')\n",
    "    I_s = np.zeros(shape=(1, frames_per_seq, h_s, w_s,3), dtype='float32')\n",
    "    I_c = np.zeros(shape=(1, frames_per_seq, h_c, w_c,3), dtype='float32')\n",
    "    SEG_ff = np.zeros(shape=(1, 19, 1, h, w), dtype='float32')\n",
    "    SEG_s = np.zeros(shape=(1, 19, frames_per_seq, h_s, w_s), dtype='float32')\n",
    "    SEG_c = np.zeros(shape=(1, 19, frames_per_seq, h_c, w_c), dtype='float32')\n",
    "    OF_ff = np.zeros(shape=(1, 3, 1, h, w), dtype='float32')\n",
    "    OF_s = np.zeros(shape=(1, 3, frames_per_seq, h_s, w_s), dtype='float32')\n",
    "    OF_c = np.zeros(shape=(1, 3, frames_per_seq, h_c, w_c), dtype='float32')\n",
    "    \n",
    "   \n",
    "    for fr in range(0, frames_per_seq):\n",
    "        offset = sample - frames_per_seq + 1 + fr   # tricky\n",
    "\n",
    "        # read image\n",
    "        x = read_image(join(sequence_dir,'frames','{}.jpg'.format(offset)),\n",
    "                       channels_first=False, resize_dim=(h, w)) - mean_dreyeve_image\n",
    "        I_s[0, fr, :, :,:] = resize_tensor(x,new_shape=(h_s, w_s))\n",
    "        \"\"\"\n",
    "        # read semseg\n",
    "        seg = resize_tensor(np.load(join(sequence_dir,'segmentation', '{}.npz'.format(offset)))['arr_0'][0],\n",
    "                            new_shape=(h, w))\n",
    "        SEG_s[0, :, fr, :, :] = resize_tensor(seg, new_shape=(h_s, w_s))\n",
    "        # read of\n",
    "        \n",
    "        of = read_image(join(sequence_dir,'optical_flow', '{}.jpg'.format(offset + 1)),\n",
    "                        channels_first=True, resize_dim=(h, w))\n",
    "        of -= np.mean(of, axis=(1, 2), keepdims=True)  # remove mean\n",
    "        OF_s[0, :, fr, :, :] = resize_tensor(of, new_shape=(h_s, w_s))\n",
    "        \"\"\"\n",
    "\n",
    "    I_ff[0,0, :, :,:] = x\n",
    "    #SEG_ff[0, :, 0, :, :] = seg\n",
    "    #OF_ff[0, :, 0, :, :] = of\n",
    "\n",
    "    return [I_ff, I_s, I_c]\n"
   ]
  },
  {
   "cell_type": "code",
   "execution_count": 0,
   "metadata": {
    "colab": {},
    "colab_type": "code",
    "id": "KkhcNY7tTwB2"
   },
   "outputs": [],
   "source": [
    "frames_per_seq, h, w = 16, 448, 448\n",
    "dreyeve_dir = '/content/drive/My Drive/dreyeve project/test_set/v48/' #heeeeeeerrrrr\n",
    "# load mean dreyeve image\n",
    "mean_dreyeve_image = read_image(\"/content/drive/My Drive/dreyeve project/test_set/v13/mean_frame.png\",\n",
    "                                    channels_first=False, resize_dim=(h, w))"
   ]
  },
  {
   "cell_type": "code",
   "execution_count": 0,
   "metadata": {
    "colab": {
     "base_uri": "https://localhost:8080/",
     "height": 286
    },
    "colab_type": "code",
    "id": "nfcQBBX2T1xV",
    "outputId": "d48c0eea-8f9b-46ef-94ef-a3d023c8387c"
   },
   "outputs": [
    {
     "name": "stderr",
     "output_type": "stream",
     "text": [
      "100%|██████████| 14/14 [00:46<00:00,  3.33s/it]\n"
     ]
    },
    {
     "data": {
      "image/png": "[encoded data removed]",
      "text/plain": [
       "<Figure size 432x288 with 1 Axes>"
      ]
     },
     "metadata": {
      "tags": []
     },
     "output_type": "display_data"
    }
   ],
   "source": [
    "import matplotlib.pyplot as plt\n",
    "from time import time\n",
    "\n",
    "for sample in tqdm(range(15, 30 - 1)):        \n",
    "        \n",
    "        t = time()\n",
    "        \n",
    "        X = load_dreyeve_sample(\"/content/drive/My Drive/dreyeve project/test_set/v48/inputs/\", sample=sample, mean_dreyeve_image=mean_dreyeve_image,\n",
    "                                frames_per_seq=frames_per_seq, h=h, w=w)#heeeerrrrrr\n",
    "        #Y_dreyevenet = dreyevenet_model.predict(X)[0]  # get only [fine_out][remove batch]\n",
    "        Y_image = model.predict(X)[0]  # predict on image\n",
    "        plt.imshow(Y_image[0,:,:,0])        \n",
    "        #pl.imshow(Y_image[0,:,:,0],'gray')\n",
    "        #Y_flow = flow_branch.predict(X[3:6])[0]  # predict on optical flow\n",
    "        #Y_semseg = semseg_branch.predict(X[3:])[0]  # predict on segmentation\n"
   ]
  }
 ],
 "metadata": {
  "accelerator": "GPU",
  "colab": {
   "collapsed_sections": [],
   "name": "training.ipynb",
   "provenance": []
  },
  "kernelspec": {
   "display_name": "Python 3",
   "language": "python",
   "name": "python3"
  },
  "language_info": {
   "codemirror_mode": {
    "name": "ipython",
    "version": 3
   },
   "file_extension": ".py",
   "mimetype": "text/x-python",
   "name": "python",
   "nbconvert_exporter": "python",
   "pygments_lexer": "ipython3",
   "version": "3.8.3"
  }
 },
 "nbformat": 4,
 "nbformat_minor": 1
}
